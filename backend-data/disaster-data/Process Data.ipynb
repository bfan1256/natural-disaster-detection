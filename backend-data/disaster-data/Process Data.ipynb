{
 "cells": [
  {
   "cell_type": "markdown",
   "metadata": {},
   "source": [
    "# Process Data\n",
    "\n",
    "Process event data for application"
   ]
  },
  {
   "cell_type": "code",
   "execution_count": 7,
   "metadata": {},
   "outputs": [
    {
     "name": "stdout",
     "output_type": "stream",
     "text": [
      "Pretty printing has been turned ON\n"
     ]
    }
   ],
   "source": [
    "import json\n",
    "import pprint\n",
    "%pprint"
   ]
  },
  {
   "cell_type": "code",
   "execution_count": 2,
   "metadata": {},
   "outputs": [],
   "source": [
    "with open('./all_data.json') as f:\n",
    "    all_data = json.load(f)"
   ]
  },
  {
   "cell_type": "code",
   "execution_count": 3,
   "metadata": {},
   "outputs": [],
   "source": [
    "with open('./labels_with_events.json') as f:\n",
    "    event_labels = json.load(f)"
   ]
  },
  {
   "cell_type": "markdown",
   "metadata": {},
   "source": [
    "## Get Event Data"
   ]
  },
  {
   "cell_type": "code",
   "execution_count": 27,
   "metadata": {},
   "outputs": [],
   "source": [
    "import xmltodict"
   ]
  },
  {
   "cell_type": "code",
   "execution_count": 74,
   "metadata": {},
   "outputs": [],
   "source": [
    "with open('./events.xml') as f:\n",
    "    dict_topics = xmltodict.parse(f.read())\n",
    "    json_output = json.dumps(dict_topics)\n",
    "    topics = json.loads(json_output)['topics']['top']\n",
    "    for topic in topics:\n",
    "        topic['narr'] = ' '.join(topic['narr'].replace('\\n', '').split())"
   ]
  },
  {
   "cell_type": "code",
   "execution_count": 75,
   "metadata": {},
   "outputs": [],
   "source": [
    "topic_names = [topic['dataset'] for topic in topics]"
   ]
  },
  {
   "cell_type": "code",
   "execution_count": 48,
   "metadata": {},
   "outputs": [],
   "source": [
    "fixed_event_labels = [event for event in event_labels if event['eventid'] in topic_names]"
   ]
  },
  {
   "cell_type": "code",
   "execution_count": 53,
   "metadata": {},
   "outputs": [
    {
     "data": {
      "text/plain": [
       "[{'postID': '390373897704448000',\n",
       "  'timestamp': '8 Apr 2019 15:21:04 GMT',\n",
       "  'categories': ['Hashtags', 'Sentiment', 'Irrelevant'],\n",
       "  'indicatorTerms': [],\n",
       "  'priority': 'Low',\n",
       "  'text': 'RT @QueenPetraK: Prayers for Bohol and Cebu and other parts of Visayas. Keep safe everyone.  #PrayForVisayas God bless the Philippines!'}]"
      ]
     },
     "execution_count": 53,
     "metadata": {},
     "output_type": "execute_result"
    }
   ],
   "source": [
    "fixed_event_labels[0]['tweets'][:1]"
   ]
  },
  {
   "cell_type": "markdown",
   "metadata": {},
   "source": [
    "## Combine with All Text Data"
   ]
  },
  {
   "cell_type": "code",
   "execution_count": 59,
   "metadata": {},
   "outputs": [],
   "source": [
    "ids = []\n",
    "all_labels = []\n",
    "for event in fixed_event_labels:\n",
    "    for tweet in event['tweets']:\n",
    "        all_labels.append(tweet)\n",
    "        ids.append(tweet['postID'])"
   ]
  },
  {
   "cell_type": "code",
   "execution_count": 60,
   "metadata": {},
   "outputs": [
    {
     "name": "stdout",
     "output_type": "stream",
     "text": [
      "12560\n"
     ]
    }
   ],
   "source": [
    "print(len(ids))"
   ]
  },
  {
   "cell_type": "code",
   "execution_count": 56,
   "metadata": {},
   "outputs": [],
   "source": [
    "intersecting_data = []\n",
    "for tweet in all_data:\n",
    "    if tweet['allProperties']['id'] in ids:\n",
    "        intersecting_data.append(tweet)"
   ]
  },
  {
   "cell_type": "code",
   "execution_count": 57,
   "metadata": {},
   "outputs": [
    {
     "data": {
      "text/plain": [
       "12700"
      ]
     },
     "execution_count": 57,
     "metadata": {},
     "output_type": "execute_result"
    }
   ],
   "source": [
    "len(intersecting_data)"
   ]
  },
  {
   "cell_type": "code",
   "execution_count": 61,
   "metadata": {},
   "outputs": [],
   "source": [
    "final_data = []\n",
    "for tweet in intersecting_data:\n",
    "    post_id = tweet['allProperties']['id']\n",
    "    id_index = ids.index(post_id)\n",
    "    tweet['label'] = all_labels[id_index]\n",
    "    final_data.append(tweet)"
   ]
  },
  {
   "cell_type": "code",
   "execution_count": 64,
   "metadata": {},
   "outputs": [],
   "source": [
    "whitelisted_properties = ['user.verified', 'id', 'text', 'created_at', 'user.name', 'user.profile_image_url_https']"
   ]
  },
  {
   "cell_type": "code",
   "execution_count": 68,
   "metadata": {},
   "outputs": [],
   "source": [
    "search_data = []\n",
    "\n",
    "for tweet in final_data:\n",
    "    data_point = {\n",
    "        'datasetid': tweet['datasetid'],\n",
    "        'topic': tweet['topic'],\n",
    "        'label': tweet['label']\n",
    "    }\n",
    "    properties = {}\n",
    "    for key in tweet['allProperties'].keys():\n",
    "        if key in whitelisted_properties:\n",
    "            properties[key] = tweet['allProperties'][key]\n",
    "    data_point['properties'] = properties\n",
    "    search_data.append(data_point)"
   ]
  },
  {
   "cell_type": "code",
   "execution_count": 69,
   "metadata": {},
   "outputs": [
    {
     "data": {
      "text/plain": [
       "{'datasetid': 'trecis2018-test',\n",
       " 'topic': 'albertaFloods2013',\n",
       " 'label': {'postID': '351734622884855808',\n",
       "  'timestamp': '11 Sep 2018 19:36:19 GMT',\n",
       "  'categories': ['ThirdPartyObservation', 'Advice'],\n",
       "  'indicatorTerms': [],\n",
       "  'priority': 'Low'},\n",
       " 'properties': {'user.verified': 'false',\n",
       "  'id': '351734622884855808',\n",
       "  'text': '#yycflood be sure when you are ready for re building you call companies that have a biz license http://t.co/1H6ezAq5vD',\n",
       "  'user.profile_image_url_https': 'https://pbs.twimg.com/profile_images/515940503939203072/50Uopj8l_normal.jpeg',\n",
       "  'created_at': 'Mon Jul 01 16:10:43 +0000 2013',\n",
       "  'user.name': 'HStreetz'}}"
      ]
     },
     "execution_count": 69,
     "metadata": {},
     "output_type": "execute_result"
    }
   ],
   "source": [
    "search_data[0]"
   ]
  },
  {
   "cell_type": "markdown",
   "metadata": {},
   "source": [
    "## Write Data"
   ]
  },
  {
   "cell_type": "code",
   "execution_count": 70,
   "metadata": {},
   "outputs": [],
   "source": [
    "with open('search_data.json', 'w') as f:\n",
    "    json.dump(search_data, f)"
   ]
  },
  {
   "cell_type": "code",
   "execution_count": 77,
   "metadata": {},
   "outputs": [],
   "source": [
    "with open('events.json', 'w') as f:\n",
    "    json.dump(topics, f)"
   ]
  }
 ],
 "metadata": {
  "kernelspec": {
   "display_name": "Python 3",
   "language": "python",
   "name": "python3"
  },
  "language_info": {
   "codemirror_mode": {
    "name": "ipython",
    "version": 3
   },
   "file_extension": ".py",
   "mimetype": "text/x-python",
   "name": "python",
   "nbconvert_exporter": "python",
   "pygments_lexer": "ipython3",
   "version": "3.7.4"
  }
 },
 "nbformat": 4,
 "nbformat_minor": 2
}
